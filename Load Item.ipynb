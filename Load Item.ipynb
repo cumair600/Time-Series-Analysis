{
 "cells": [
  {
   "cell_type": "code",
   "execution_count": 1,
   "metadata": {},
   "outputs": [],
   "source": [
    "import pickle\n",
    "\n",
    "with open(\"dates.txt\", \"rb\") as fp:   # Unpickling\n",
    "    months = pickle.load(fp)\n",
    "    \n",
    "def delRows(a):    \n",
    "    i = len(a.index) - 1\n",
    "    while i >= 53:\n",
    "        a = a.drop(index=i)\n",
    "        i = i - 1\n",
    "    return a  \n",
    "\n",
    "def delCols(b):    \n",
    "    i = len(b.columns) - 1\n",
    "    while i >= 21:\n",
    "        b = b.drop(columns=i)\n",
    "        i = i - 1\n",
    "    return b "
   ]
  },
  {
   "cell_type": "code",
   "execution_count": 2,
   "metadata": {
    "scrolled": true
   },
   "outputs": [],
   "source": [
    "import pandas as pd\n",
    "import glob\n",
    "\n",
    "item = 'WHEAT FLOUR'\n",
    "city = 'ISLAMABAD'\n",
    "\n",
    "path = \"Prices/\" # use your path\n",
    "all_files = glob.glob(path + \"*.csv\")\n",
    "\n",
    "prices = []\n",
    "\n",
    "for filename in all_files:\n",
    "    df = pd.read_csv(filename,  skiprows=2, header=None)\n",
    "    if len(df.columns) > 21:\n",
    "        df = delCols(df)\n",
    "    if len(df.index) > 53:\n",
    "        df = delRows(df)\n",
    "    df.columns = ['SR','ITEM','UNIT','ISLAMABAD','RAWALPINDI','GUJRANWALA','SIALKOT','LAHORE','FAISALABAD','SARGODHA','MULTAN','BAHAWALPUR','KARACHI','HYDERABAD','SUKKUR','LARKANA','PESHAWAR','BANNU','QUETTA','KHUZDAR','AVERAGE']\n",
    "    df.index = ['WHEAT','WHEAT FLOUR','RICE BASMATI','RICE IRRI-6','BREAD PLAIN MEDIUM','BEEF','MUTTON','CHICKEN','MILK FRESH','CURD','MILK NIDO','EGG HEN','MUSTARD OIL','COOKING OIL','VEGETABLE GHEE TIN','VEGETABLE GHEE LOOSE','BANANAS','MASOOR PULSE','MOONG PULSE','MASH PULSE','GRAM PULSE','POTATOES','ONIONS','TOMATOES','SUGAR','GUR','SALT POWDER','RED CHILLIES POWDER','GARLIC','TEA YELLOW LABEL','COOKED BEEF PLATE','COOKED DAL PLATE','TEA PREPARED SADA','CIGARETTES K-2','LONG CLOTH','SHIRTING','LAWN','GEORGETTE','SANDAL GENTS BATA','CHAPPAL SPONGE BATA','SANDAL LADIES BATA','ELECTRIC CHARGES','GAS CHARGES','KEROSENE','FIREWOOD','ENERGY SAVOR 14W','WASHING SOAP','MATCH BOX','PETROL','DIESEL','LPG 11KG CYLINDER','TELEPHONE LOCAL CALL','BATH SOAP LIFEBOUY']\n",
    "    prices.append(float(df[city][item]))\n"
   ]
  },
  {
   "cell_type": "code",
   "execution_count": 3,
   "metadata": {
    "scrolled": true
   },
   "outputs": [],
   "source": [
    "prices = pd.DataFrame(list(zip(months, prices)), \n",
    "               columns =['Month', 'Price'])\n",
    "\n",
    "file = item + '.pickle'\n",
    "with open(file, 'wb') as handle:\n",
    "    pickle.dump(prices, handle, protocol=pickle.HIGHEST_PROTOCOL)"
   ]
  },
  {
   "cell_type": "code",
   "execution_count": 4,
   "metadata": {},
   "outputs": [
    {
     "data": {
      "text/html": [
       "<div>\n",
       "<style scoped>\n",
       "    .dataframe tbody tr th:only-of-type {\n",
       "        vertical-align: middle;\n",
       "    }\n",
       "\n",
       "    .dataframe tbody tr th {\n",
       "        vertical-align: top;\n",
       "    }\n",
       "\n",
       "    .dataframe thead th {\n",
       "        text-align: right;\n",
       "    }\n",
       "</style>\n",
       "<table border=\"1\" class=\"dataframe\">\n",
       "  <thead>\n",
       "    <tr style=\"text-align: right;\">\n",
       "      <th></th>\n",
       "      <th>Month</th>\n",
       "      <th>Price</th>\n",
       "    </tr>\n",
       "  </thead>\n",
       "  <tbody>\n",
       "    <tr>\n",
       "      <td>0</td>\n",
       "      <td>2012-01</td>\n",
       "      <td>300.63</td>\n",
       "    </tr>\n",
       "    <tr>\n",
       "      <td>1</td>\n",
       "      <td>2012-02</td>\n",
       "      <td>340.63</td>\n",
       "    </tr>\n",
       "    <tr>\n",
       "      <td>2</td>\n",
       "      <td>2012-03</td>\n",
       "      <td>340.63</td>\n",
       "    </tr>\n",
       "    <tr>\n",
       "      <td>3</td>\n",
       "      <td>2012-04</td>\n",
       "      <td>341.72</td>\n",
       "    </tr>\n",
       "    <tr>\n",
       "      <td>4</td>\n",
       "      <td>2012-05</td>\n",
       "      <td>302.50</td>\n",
       "    </tr>\n",
       "    <tr>\n",
       "      <td>...</td>\n",
       "      <td>...</td>\n",
       "      <td>...</td>\n",
       "    </tr>\n",
       "    <tr>\n",
       "      <td>86</td>\n",
       "      <td>2019-03</td>\n",
       "      <td>393.75</td>\n",
       "    </tr>\n",
       "    <tr>\n",
       "      <td>87</td>\n",
       "      <td>2019-04</td>\n",
       "      <td>393.75</td>\n",
       "    </tr>\n",
       "    <tr>\n",
       "      <td>88</td>\n",
       "      <td>2019-05</td>\n",
       "      <td>412.38</td>\n",
       "    </tr>\n",
       "    <tr>\n",
       "      <td>89</td>\n",
       "      <td>2019-06</td>\n",
       "      <td>427.11</td>\n",
       "    </tr>\n",
       "    <tr>\n",
       "      <td>90</td>\n",
       "      <td>2019-07</td>\n",
       "      <td>435.94</td>\n",
       "    </tr>\n",
       "  </tbody>\n",
       "</table>\n",
       "<p>91 rows × 2 columns</p>\n",
       "</div>"
      ],
      "text/plain": [
       "      Month   Price\n",
       "0   2012-01  300.63\n",
       "1   2012-02  340.63\n",
       "2   2012-03  340.63\n",
       "3   2012-04  341.72\n",
       "4   2012-05  302.50\n",
       "..      ...     ...\n",
       "86  2019-03  393.75\n",
       "87  2019-04  393.75\n",
       "88  2019-05  412.38\n",
       "89  2019-06  427.11\n",
       "90  2019-07  435.94\n",
       "\n",
       "[91 rows x 2 columns]"
      ]
     },
     "execution_count": 4,
     "metadata": {},
     "output_type": "execute_result"
    }
   ],
   "source": [
    "prices"
   ]
  }
 ],
 "metadata": {
  "kernelspec": {
   "display_name": "Python 3",
   "language": "python",
   "name": "python3"
  },
  "language_info": {
   "codemirror_mode": {
    "name": "ipython",
    "version": 3
   },
   "file_extension": ".py",
   "mimetype": "text/x-python",
   "name": "python",
   "nbconvert_exporter": "python",
   "pygments_lexer": "ipython3",
   "version": "3.7.4"
  }
 },
 "nbformat": 4,
 "nbformat_minor": 2
}
