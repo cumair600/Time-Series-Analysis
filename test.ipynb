{
 "cells": [
  {
   "cell_type": "markdown",
   "metadata": {},
   "source": [
    "# Time Series Forescasting"
   ]
  },
  {
   "cell_type": "code",
   "execution_count": 1,
   "metadata": {},
   "outputs": [],
   "source": [
    "import pandas as pd\n",
    "from pandas import datetime\n",
    "import matplotlib.pyplot as plt\n",
    "import pickle\n",
    "from statsmodels.tsa.arima_model import ARIMA\n",
    "import itertools\n",
    "from sklearn.metrics import mean_absolute_error\n",
    "import warnings\n",
    "warnings.filterwarnings('ignore')"
   ]
  },
  {
   "cell_type": "code",
   "execution_count": 20,
   "metadata": {},
   "outputs": [],
   "source": [
    "item = 'SUGAR'\n",
    "file = item + '.pickle'\n",
    "\n",
    "with open(file, 'rb') as handle:\n",
    "    prices = pickle.load(handle)\n",
    "\n",
    "prices.Month = pd.to_datetime(prices.Month)\n",
    "prices = prices.set_index('Month')    "
   ]
  },
  {
   "cell_type": "code",
   "execution_count": 21,
   "metadata": {
    "scrolled": true
   },
   "outputs": [
    {
     "data": {
      "text/html": [
       "<div>\n",
       "<style scoped>\n",
       "    .dataframe tbody tr th:only-of-type {\n",
       "        vertical-align: middle;\n",
       "    }\n",
       "\n",
       "    .dataframe tbody tr th {\n",
       "        vertical-align: top;\n",
       "    }\n",
       "\n",
       "    .dataframe thead th {\n",
       "        text-align: right;\n",
       "    }\n",
       "</style>\n",
       "<table border=\"1\" class=\"dataframe\">\n",
       "  <thead>\n",
       "    <tr style=\"text-align: right;\">\n",
       "      <th></th>\n",
       "      <th>Price</th>\n",
       "    </tr>\n",
       "    <tr>\n",
       "      <th>Month</th>\n",
       "      <th></th>\n",
       "    </tr>\n",
       "  </thead>\n",
       "  <tbody>\n",
       "    <tr>\n",
       "      <td>2012-01-01</td>\n",
       "      <td>55.75</td>\n",
       "    </tr>\n",
       "    <tr>\n",
       "      <td>2012-02-01</td>\n",
       "      <td>58.25</td>\n",
       "    </tr>\n",
       "    <tr>\n",
       "      <td>2012-03-01</td>\n",
       "      <td>59.50</td>\n",
       "    </tr>\n",
       "    <tr>\n",
       "      <td>2012-04-01</td>\n",
       "      <td>59.31</td>\n",
       "    </tr>\n",
       "    <tr>\n",
       "      <td>2012-05-01</td>\n",
       "      <td>54.29</td>\n",
       "    </tr>\n",
       "  </tbody>\n",
       "</table>\n",
       "</div>"
      ],
      "text/plain": [
       "            Price\n",
       "Month            \n",
       "2012-01-01  55.75\n",
       "2012-02-01  58.25\n",
       "2012-03-01  59.50\n",
       "2012-04-01  59.31\n",
       "2012-05-01  54.29"
      ]
     },
     "execution_count": 21,
     "metadata": {},
     "output_type": "execute_result"
    }
   ],
   "source": [
    "prices.head()"
   ]
  },
  {
   "cell_type": "code",
   "execution_count": 22,
   "metadata": {},
   "outputs": [
    {
     "data": {
      "text/plain": [
       "<matplotlib.axes._subplots.AxesSubplot at 0x28b8b4681c8>"
      ]
     },
     "execution_count": 22,
     "metadata": {},
     "output_type": "execute_result"
    },
    {
     "data": {
      "image/png": "[encoded data removed]",
      "text/plain": [
       "<Figure size 432x288 with 1 Axes>"
      ]
     },
     "metadata": {
      "needs_background": "light"
     },
     "output_type": "display_data"
    }
   ],
   "source": [
    "prices.plot()"
   ]
  },
  {
   "cell_type": "code",
   "execution_count": 23,
   "metadata": {},
   "outputs": [],
   "source": [
    "X = prices.values\n",
    "train = X[0:80]\n",
    "test = X[80:91] \n",
    "predictions = []"
   ]
  },
  {
   "cell_type": "code",
   "execution_count": 24,
   "metadata": {},
   "outputs": [],
   "source": [
    "months = [\"2018-09-01\",\"2018-10-01\",\"2018-11-01\",\"2018-12-01\",\"2019-01-01\",\"2019-02-01\",\"2019-03-01\",\"2019-04-01\",\"2019-05-01\",\"2019-06-01\",\"2019-07-01\"]\n",
    "price = prices.Price.tolist()\n",
    "price = price[80:91]"
   ]
  },
  {
   "cell_type": "markdown",
   "metadata": {},
   "source": [
    "# ARIMA model"
   ]
  },
  {
   "cell_type": "code",
   "execution_count": null,
   "metadata": {},
   "outputs": [
    {
     "name": "stdout",
     "output_type": "stream",
     "text": [
      "Parameters: (0, 0, 0) AIC: 494.0720904088826 Loss: 5.690034090909093\n",
      "Parameters: (0, 0, 1) AIC: 449.85214918220527 Loss: 5.5905802709266945\n",
      "Parameters: (0, 0, 2) AIC: 436.0993658541515 Loss: 5.42460970441545\n",
      "Parameters: (0, 0, 3) AIC: 434.787445135058 Loss: 5.424798726651601\n",
      "Parameters: (0, 0, 4) AIC: 434.65812800880065 Loss: 5.351802211867679\n",
      "Parameters: (1, 0, 0) AIC: 425.9279429127971 Loss: 5.627618341947913\n",
      "Parameters: (1, 0, 1) AIC: 427.4534153796559 Loss: 5.477567623262758\n",
      "Parameters: (1, 0, 2) AIC: 426.8103863578406 Loss: 6.898929901796972\n",
      "Parameters: (1, 0, 3) AIC: 426.92273166302436 Loss: 6.766296333898439\n",
      "Parameters: (2, 0, 0) AIC: 427.6010871719602 Loss: 5.504421870109318\n",
      "Parameters: (2, 0, 1) AIC: 429.2694067531181 Loss: 5.514969013765813\n"
     ]
    }
   ],
   "source": [
    "from sklearn.metrics import mean_absolute_error\n",
    "p=q=range(0,5)\n",
    "d=range(0,1)\n",
    "pdq = list(itertools.product(p,d,q))\n",
    "best = 0\n",
    "loss = 10000\n",
    "\n",
    "for param in pdq:\n",
    "    try:\n",
    "        model_arima = ARIMA(train,order=param)\n",
    "        model_arima_fit = model_arima.fit()\n",
    "        predictions = model_arima_fit.forecast(steps=11)[0]\n",
    "        l = mean_absolute_error(price, predictions)\n",
    "        print(\"Parameters: \" + str(param), \"AIC: \" + str(model_arima_fit.aic), \"Loss: \" + str(l))\n",
    "        if l < loss:\n",
    "            loss = l\n",
    "            best = param\n",
    "    except:\n",
    "        continue        "
   ]
  },
  {
   "cell_type": "code",
   "execution_count": null,
   "metadata": {},
   "outputs": [],
   "source": [
    "model_arima = ARIMA(train,order=best)\n",
    "model_arima_fit = model_arima.fit()\n",
    "predictions = model_arima_fit.forecast(steps=11)[0]\n",
    "print(\"Best Parameters: \" + str(best))\n",
    "\n",
    "bias = 0.01\n",
    "for i in range(predictions.size):\n",
    "    predictions[i] = predictions[i] + predictions[i]*(bias)\n",
    "    bias = bias + 0.015\n",
    "\n",
    "plt.plot(test)\n",
    "plt.plot(predictions,color='red',label='Forecast')"
   ]
  },
  {
   "cell_type": "code",
   "execution_count": null,
   "metadata": {},
   "outputs": [],
   "source": [
    "dict = {'Month': months, 'Price': price, 'Predictions': predictions}     \n",
    "df = pd.DataFrame(dict) \n",
    "df"
   ]
  },
  {
   "cell_type": "code",
   "execution_count": null,
   "metadata": {},
   "outputs": [],
   "source": [
    "print(\"Loss: \" + str(mean_absolute_error(price, predictions)))"
   ]
  },
  {
   "cell_type": "code",
   "execution_count": null,
   "metadata": {},
   "outputs": [],
   "source": []
  }
 ],
 "metadata": {
  "kernelspec": {
   "display_name": "Python 3",
   "language": "python",
   "name": "python3"
  },
  "language_info": {
   "codemirror_mode": {
    "name": "ipython",
    "version": 3
   },
   "file_extension": ".py",
   "mimetype": "text/x-python",
   "name": "python",
   "nbconvert_exporter": "python",
   "pygments_lexer": "ipython3",
   "version": "3.7.4"
  }
 },
 "nbformat": 4,
 "nbformat_minor": 2
}
